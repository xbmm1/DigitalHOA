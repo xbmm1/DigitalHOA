{
 "cells": [
  {
   "cell_type": "code",
   "execution_count": 65,
   "id": "fdc0255b-f88b-495e-a605-85133a31ce49",
   "metadata": {},
   "outputs": [
    {
     "data": {
      "text/html": [
       "<div>\n",
       "<style scoped>\n",
       "    .dataframe tbody tr th:only-of-type {\n",
       "        vertical-align: middle;\n",
       "    }\n",
       "\n",
       "    .dataframe tbody tr th {\n",
       "        vertical-align: top;\n",
       "    }\n",
       "\n",
       "    .dataframe thead th {\n",
       "        text-align: right;\n",
       "    }\n",
       "</style>\n",
       "<table border=\"1\" class=\"dataframe\">\n",
       "  <thead>\n",
       "    <tr style=\"text-align: right;\">\n",
       "      <th></th>\n",
       "      <th>geoid</th>\n",
       "      <th>year</th>\n",
       "      <th>Total</th>\n",
       "      <th>Family households</th>\n",
       "      <th>Family households- Married-couple family</th>\n",
       "      <th>Family households- Other family</th>\n",
       "      <th>Family households- Other family- Male householder,no wife</th>\n",
       "      <th>Family households- Other family- Female householder,no husband</th>\n",
       "      <th>Nonfamily households</th>\n",
       "      <th>Nonfamily households- Householder living alone</th>\n",
       "      <th>Nonfamily households- Householder not living alone</th>\n",
       "    </tr>\n",
       "  </thead>\n",
       "  <tbody>\n",
       "    <tr>\n",
       "      <th>0</th>\n",
       "      <td>16000US0455000</td>\n",
       "      <td>2008</td>\n",
       "      <td>493898</td>\n",
       "      <td>308067</td>\n",
       "      <td>208802</td>\n",
       "      <td>99265</td>\n",
       "      <td>33169</td>\n",
       "      <td>66096</td>\n",
       "      <td>185831</td>\n",
       "      <td>145290</td>\n",
       "      <td>40541</td>\n",
       "    </tr>\n",
       "    <tr>\n",
       "      <th>1</th>\n",
       "      <td>16000US0455000</td>\n",
       "      <td>2009</td>\n",
       "      <td>516655</td>\n",
       "      <td>335343</td>\n",
       "      <td>227967</td>\n",
       "      <td>107376</td>\n",
       "      <td>34635</td>\n",
       "      <td>72741</td>\n",
       "      <td>181312</td>\n",
       "      <td>144382</td>\n",
       "      <td>36930</td>\n",
       "    </tr>\n",
       "    <tr>\n",
       "      <th>2</th>\n",
       "      <td>16000US0455000</td>\n",
       "      <td>2010</td>\n",
       "      <td>511432</td>\n",
       "      <td>326132</td>\n",
       "      <td>215746</td>\n",
       "      <td>110386</td>\n",
       "      <td>31407</td>\n",
       "      <td>78979</td>\n",
       "      <td>185300</td>\n",
       "      <td>145407</td>\n",
       "      <td>39893</td>\n",
       "    </tr>\n",
       "    <tr>\n",
       "      <th>3</th>\n",
       "      <td>16000US0455000</td>\n",
       "      <td>2011</td>\n",
       "      <td>519369</td>\n",
       "      <td>329717</td>\n",
       "      <td>216329</td>\n",
       "      <td>113388</td>\n",
       "      <td>35719</td>\n",
       "      <td>77669</td>\n",
       "      <td>189652</td>\n",
       "      <td>150800</td>\n",
       "      <td>38852</td>\n",
       "    </tr>\n",
       "    <tr>\n",
       "      <th>4</th>\n",
       "      <td>16000US0455000</td>\n",
       "      <td>2012</td>\n",
       "      <td>521555</td>\n",
       "      <td>326255</td>\n",
       "      <td>208149</td>\n",
       "      <td>118106</td>\n",
       "      <td>33709</td>\n",
       "      <td>84397</td>\n",
       "      <td>195300</td>\n",
       "      <td>152745</td>\n",
       "      <td>42555</td>\n",
       "    </tr>\n",
       "  </tbody>\n",
       "</table>\n",
       "</div>"
      ],
      "text/plain": [
       "            geoid  year   Total  Family households  \\\n",
       "0  16000US0455000  2008  493898             308067   \n",
       "1  16000US0455000  2009  516655             335343   \n",
       "2  16000US0455000  2010  511432             326132   \n",
       "3  16000US0455000  2011  519369             329717   \n",
       "4  16000US0455000  2012  521555             326255   \n",
       "\n",
       "   Family households- Married-couple family  Family households- Other family  \\\n",
       "0                                    208802                            99265   \n",
       "1                                    227967                           107376   \n",
       "2                                    215746                           110386   \n",
       "3                                    216329                           113388   \n",
       "4                                    208149                           118106   \n",
       "\n",
       "   Family households- Other family- Male householder,no wife  \\\n",
       "0                                              33169           \n",
       "1                                              34635           \n",
       "2                                              31407           \n",
       "3                                              35719           \n",
       "4                                              33709           \n",
       "\n",
       "   Family households- Other family- Female householder,no husband  \\\n",
       "0                                              66096                \n",
       "1                                              72741                \n",
       "2                                              78979                \n",
       "3                                              77669                \n",
       "4                                              84397                \n",
       "\n",
       "   Nonfamily households  Nonfamily households- Householder living alone  \\\n",
       "0                185831                                          145290   \n",
       "1                181312                                          144382   \n",
       "2                185300                                          145407   \n",
       "3                189652                                          150800   \n",
       "4                195300                                          152745   \n",
       "\n",
       "   Nonfamily households- Householder not living alone  \n",
       "0                                              40541   \n",
       "1                                              36930   \n",
       "2                                              39893   \n",
       "3                                              38852   \n",
       "4                                              42555   "
      ]
     },
     "execution_count": 65,
     "metadata": {},
     "output_type": "execute_result"
    }
   ],
   "source": [
    "import pandas as pd\n",
    "import matplotlib.pyplot as plt\n",
    "from pathlib import Path\n",
    "\n",
    "import hvplot.pandas\n",
    "# Load the CSV file into a DataFrame\n",
    "\n",
    "df = pd.read_csv(Path('phoenix-az-occupancy-status.csv'))\n",
    "df_2 = pd.read_csv(Path('phoenix-az-household-type.csv'))\n",
    "\n",
    "\n",
    "df_2.head()"
   ]
  },
  {
   "cell_type": "code",
   "execution_count": 64,
   "id": "44ceb478-39ea-4932-9dd4-1f8a22b61549",
   "metadata": {},
   "outputs": [
    {
     "data": {
      "text/html": [
       "<div>\n",
       "<style scoped>\n",
       "    .dataframe tbody tr th:only-of-type {\n",
       "        vertical-align: middle;\n",
       "    }\n",
       "\n",
       "    .dataframe tbody tr th {\n",
       "        vertical-align: top;\n",
       "    }\n",
       "\n",
       "    .dataframe thead th {\n",
       "        text-align: right;\n",
       "    }\n",
       "</style>\n",
       "<table border=\"1\" class=\"dataframe\">\n",
       "  <thead>\n",
       "    <tr style=\"text-align: right;\">\n",
       "      <th></th>\n",
       "      <th>geoid</th>\n",
       "      <th>year</th>\n",
       "      <th>Total Housing Units</th>\n",
       "      <th>Occupied Housing Units</th>\n",
       "      <th>Vacant Housing Units</th>\n",
       "    </tr>\n",
       "  </thead>\n",
       "  <tbody>\n",
       "    <tr>\n",
       "      <th>0</th>\n",
       "      <td>16000US0455000</td>\n",
       "      <td>2008</td>\n",
       "      <td>577323</td>\n",
       "      <td>493898</td>\n",
       "      <td>83425</td>\n",
       "    </tr>\n",
       "    <tr>\n",
       "      <th>1</th>\n",
       "      <td>16000US0455000</td>\n",
       "      <td>2009</td>\n",
       "      <td>607882</td>\n",
       "      <td>516655</td>\n",
       "      <td>91227</td>\n",
       "    </tr>\n",
       "    <tr>\n",
       "      <th>2</th>\n",
       "      <td>16000US0455000</td>\n",
       "      <td>2010</td>\n",
       "      <td>601370</td>\n",
       "      <td>511432</td>\n",
       "      <td>89938</td>\n",
       "    </tr>\n",
       "    <tr>\n",
       "      <th>3</th>\n",
       "      <td>16000US0455000</td>\n",
       "      <td>2011</td>\n",
       "      <td>604835</td>\n",
       "      <td>519369</td>\n",
       "      <td>85466</td>\n",
       "    </tr>\n",
       "    <tr>\n",
       "      <th>4</th>\n",
       "      <td>16000US0455000</td>\n",
       "      <td>2012</td>\n",
       "      <td>596762</td>\n",
       "      <td>521555</td>\n",
       "      <td>75207</td>\n",
       "    </tr>\n",
       "  </tbody>\n",
       "</table>\n",
       "</div>"
      ],
      "text/plain": [
       "            geoid  year  Total Housing Units  Occupied Housing Units  \\\n",
       "0  16000US0455000  2008               577323                  493898   \n",
       "1  16000US0455000  2009               607882                  516655   \n",
       "2  16000US0455000  2010               601370                  511432   \n",
       "3  16000US0455000  2011               604835                  519369   \n",
       "4  16000US0455000  2012               596762                  521555   \n",
       "\n",
       "   Vacant Housing Units  \n",
       "0                 83425  \n",
       "1                 91227  \n",
       "2                 89938  \n",
       "3                 85466  \n",
       "4                 75207  "
      ]
     },
     "execution_count": 64,
     "metadata": {},
     "output_type": "execute_result"
    }
   ],
   "source": [
    "df.head()"
   ]
  },
  {
   "cell_type": "code",
   "execution_count": 31,
   "id": "f5586ddd-14b4-47fd-aab2-b237e3678e1b",
   "metadata": {},
   "outputs": [
    {
     "data": {},
     "metadata": {},
     "output_type": "display_data"
    },
    {
     "data": {
      "application/vnd.holoviews_exec.v0+json": "",
      "text/html": [
       "<div id='1559'>\n",
       "  <div class=\"bk-root\" id=\"64d0d68e-8b74-4b5a-97ac-f59b123e0f93\" data-root-id=\"1559\"></div>\n",
       "</div>\n",
       "<script type=\"application/javascript\">(function(root) {\n",
       "  function embed_document(root) {\n",
       "    var docs_json = {\"cd69e02d-86b2-4235-adb8-4b8f156a072b\":{\"defs\":[{\"extends\":null,\"module\":null,\"name\":\"ReactiveHTML1\",\"overrides\":[],\"properties\":[]},{\"extends\":null,\"module\":null,\"name\":\"FlexBox1\",\"overrides\":[],\"properties\":[{\"default\":\"flex-start\",\"kind\":null,\"name\":\"align_content\"},{\"default\":\"flex-start\",\"kind\":null,\"name\":\"align_items\"},{\"default\":\"row\",\"kind\":null,\"name\":\"flex_direction\"},{\"default\":\"wrap\",\"kind\":null,\"name\":\"flex_wrap\"},{\"default\":\"flex-start\",\"kind\":null,\"name\":\"justify_content\"}]},{\"extends\":null,\"module\":null,\"name\":\"GridStack1\",\"overrides\":[],\"properties\":[{\"default\":\"warn\",\"kind\":null,\"name\":\"mode\"},{\"default\":null,\"kind\":null,\"name\":\"ncols\"},{\"default\":null,\"kind\":null,\"name\":\"nrows\"},{\"default\":true,\"kind\":null,\"name\":\"allow_resize\"},{\"default\":true,\"kind\":null,\"name\":\"allow_drag\"},{\"default\":[],\"kind\":null,\"name\":\"state\"}]},{\"extends\":null,\"module\":null,\"name\":\"click1\",\"overrides\":[],\"properties\":[{\"default\":\"\",\"kind\":null,\"name\":\"terminal_output\"},{\"default\":\"\",\"kind\":null,\"name\":\"debug_name\"},{\"default\":0,\"kind\":null,\"name\":\"clears\"}]},{\"extends\":null,\"module\":null,\"name\":\"NotificationAreaBase1\",\"overrides\":[],\"properties\":[{\"default\":\"bottom-right\",\"kind\":null,\"name\":\"position\"},{\"default\":0,\"kind\":null,\"name\":\"_clear\"}]},{\"extends\":null,\"module\":null,\"name\":\"NotificationArea1\",\"overrides\":[],\"properties\":[{\"default\":[],\"kind\":null,\"name\":\"notifications\"},{\"default\":\"bottom-right\",\"kind\":null,\"name\":\"position\"},{\"default\":0,\"kind\":null,\"name\":\"_clear\"},{\"default\":[{\"background\":\"#ffc107\",\"icon\":{\"className\":\"fas fa-exclamation-triangle\",\"color\":\"white\",\"tagName\":\"i\"},\"type\":\"warning\"},{\"background\":\"#007bff\",\"icon\":{\"className\":\"fas fa-info-circle\",\"color\":\"white\",\"tagName\":\"i\"},\"type\":\"info\"}],\"kind\":null,\"name\":\"types\"}]},{\"extends\":null,\"module\":null,\"name\":\"Notification\",\"overrides\":[],\"properties\":[{\"default\":null,\"kind\":null,\"name\":\"background\"},{\"default\":3000,\"kind\":null,\"name\":\"duration\"},{\"default\":null,\"kind\":null,\"name\":\"icon\"},{\"default\":\"\",\"kind\":null,\"name\":\"message\"},{\"default\":null,\"kind\":null,\"name\":\"notification_type\"},{\"default\":false,\"kind\":null,\"name\":\"_destroyed\"}]},{\"extends\":null,\"module\":null,\"name\":\"TemplateActions1\",\"overrides\":[],\"properties\":[{\"default\":0,\"kind\":null,\"name\":\"open_modal\"},{\"default\":0,\"kind\":null,\"name\":\"close_modal\"}]},{\"extends\":null,\"module\":null,\"name\":\"MaterialTemplateActions1\",\"overrides\":[],\"properties\":[{\"default\":0,\"kind\":null,\"name\":\"open_modal\"},{\"default\":0,\"kind\":null,\"name\":\"close_modal\"}]}],\"roots\":{\"references\":[{\"attributes\":{},\"id\":\"1578\",\"type\":\"BasicTicker\"},{\"attributes\":{\"source\":{\"id\":\"1594\"}},\"id\":\"1601\",\"type\":\"CDSView\"},{\"attributes\":{},\"id\":\"1585\",\"type\":\"ResetTool\"},{\"attributes\":{\"coordinates\":null,\"data_source\":{\"id\":\"1594\"},\"glyph\":{\"id\":\"1597\"},\"group\":null,\"hover_glyph\":null,\"muted_glyph\":{\"id\":\"1599\"},\"nonselection_glyph\":{\"id\":\"1598\"},\"selection_glyph\":{\"id\":\"1602\"},\"view\":{\"id\":\"1601\"}},\"id\":\"1600\",\"type\":\"GlyphRenderer\"},{\"attributes\":{},\"id\":\"1583\",\"type\":\"WheelZoomTool\"},{\"attributes\":{\"callback\":null,\"renderers\":[{\"id\":\"1600\"}],\"tags\":[\"hv_created\"],\"tooltips\":[[\"year\",\"@{year}\"],[\"Total\",\"@{Total}\"]]},\"id\":\"1563\",\"type\":\"HoverTool\"},{\"attributes\":{\"overlay\":{\"id\":\"1586\"}},\"id\":\"1584\",\"type\":\"BoxZoomTool\"},{\"attributes\":{},\"id\":\"1618\",\"type\":\"UnionRenderers\"},{\"attributes\":{\"line_color\":\"#30a2da\",\"line_width\":2,\"x\":{\"field\":\"year\"},\"y\":{\"field\":\"Total\"}},\"id\":\"1602\",\"type\":\"Line\"},{\"attributes\":{},\"id\":\"1595\",\"type\":\"Selection\"},{\"attributes\":{\"data\":{\"Total\":[493898,516655,511432,519369,521555,517276,532210,534199,555953,559155,574645,586878,602039],\"year\":[2008,2009,2010,2011,2012,2013,2014,2015,2016,2017,2018,2019,2021]},\"selected\":{\"id\":\"1595\"},\"selection_policy\":{\"id\":\"1618\"}},\"id\":\"1594\",\"type\":\"ColumnDataSource\"},{\"attributes\":{},\"id\":\"1574\",\"type\":\"BasicTicker\"},{\"attributes\":{},\"id\":\"1569\",\"type\":\"LinearScale\"},{\"attributes\":{},\"id\":\"1582\",\"type\":\"PanTool\"},{\"attributes\":{\"coordinates\":null,\"group\":null,\"text\":\"Households in Phoenix\",\"text_color\":\"black\",\"text_font_size\":\"12pt\"},\"id\":\"1565\",\"type\":\"Title\"},{\"attributes\":{\"bottom_units\":\"screen\",\"coordinates\":null,\"fill_alpha\":0.5,\"fill_color\":\"lightgrey\",\"group\":null,\"left_units\":\"screen\",\"level\":\"overlay\",\"line_alpha\":1.0,\"line_color\":\"black\",\"line_dash\":[4,4],\"line_width\":2,\"right_units\":\"screen\",\"syncable\":false,\"top_units\":\"screen\"},\"id\":\"1586\",\"type\":\"BoxAnnotation\"},{\"attributes\":{\"margin\":[5,5,5,5],\"name\":\"HSpacer01463\",\"sizing_mode\":\"stretch_width\"},\"id\":\"1621\",\"type\":\"Spacer\"},{\"attributes\":{\"axis\":{\"id\":\"1573\"},\"coordinates\":null,\"grid_line_color\":null,\"group\":null,\"ticker\":null},\"id\":\"1576\",\"type\":\"Grid\"},{\"attributes\":{\"line_color\":\"#30a2da\",\"line_width\":2,\"x\":{\"field\":\"year\"},\"y\":{\"field\":\"Total\"}},\"id\":\"1597\",\"type\":\"Line\"},{\"attributes\":{},\"id\":\"1571\",\"type\":\"LinearScale\"},{\"attributes\":{\"format\":\"%.0f\"},\"id\":\"1603\",\"type\":\"PrintfTickFormatter\"},{\"attributes\":{\"axis_label\":\"Total Households\",\"coordinates\":null,\"formatter\":{\"id\":\"1603\"},\"group\":null,\"major_label_policy\":{\"id\":\"1609\"},\"ticker\":{\"id\":\"1578\"}},\"id\":\"1577\",\"type\":\"LinearAxis\"},{\"attributes\":{\"axis_label\":\"year\",\"coordinates\":null,\"formatter\":{\"id\":\"1605\"},\"group\":null,\"major_label_orientation\":0.7853981633974483,\"major_label_policy\":{\"id\":\"1606\"},\"ticker\":{\"id\":\"1574\"}},\"id\":\"1573\",\"type\":\"LinearAxis\"},{\"attributes\":{\"tools\":[{\"id\":\"1563\"},{\"id\":\"1581\"},{\"id\":\"1582\"},{\"id\":\"1583\"},{\"id\":\"1584\"},{\"id\":\"1585\"}]},\"id\":\"1587\",\"type\":\"Toolbar\"},{\"attributes\":{},\"id\":\"1605\",\"type\":\"BasicTickFormatter\"},{\"attributes\":{\"axis\":{\"id\":\"1577\"},\"coordinates\":null,\"dimension\":1,\"grid_line_color\":null,\"group\":null,\"ticker\":null},\"id\":\"1580\",\"type\":\"Grid\"},{\"attributes\":{\"line_alpha\":0.1,\"line_color\":\"#30a2da\",\"line_width\":2,\"x\":{\"field\":\"year\"},\"y\":{\"field\":\"Total\"}},\"id\":\"1598\",\"type\":\"Line\"},{\"attributes\":{\"end\":612853.1,\"reset_end\":612853.1,\"reset_start\":483083.9,\"start\":483083.9,\"tags\":[[[\"Total\",\"Total\",null]]]},\"id\":\"1562\",\"type\":\"Range1d\"},{\"attributes\":{},\"id\":\"1609\",\"type\":\"AllLabels\"},{\"attributes\":{\"below\":[{\"id\":\"1573\"}],\"center\":[{\"id\":\"1576\"},{\"id\":\"1580\"}],\"height\":300,\"left\":[{\"id\":\"1577\"}],\"margin\":[5,5,5,5],\"min_border_bottom\":10,\"min_border_left\":10,\"min_border_right\":10,\"min_border_top\":10,\"renderers\":[{\"id\":\"1600\"}],\"sizing_mode\":\"fixed\",\"title\":{\"id\":\"1565\"},\"toolbar\":{\"id\":\"1587\"},\"width\":700,\"x_range\":{\"id\":\"1561\"},\"x_scale\":{\"id\":\"1569\"},\"y_range\":{\"id\":\"1562\"},\"y_scale\":{\"id\":\"1571\"}},\"id\":\"1564\",\"subtype\":\"Figure\",\"type\":\"Plot\"},{\"attributes\":{\"margin\":[5,5,5,5],\"name\":\"HSpacer01462\",\"sizing_mode\":\"stretch_width\"},\"id\":\"1560\",\"type\":\"Spacer\"},{\"attributes\":{},\"id\":\"1606\",\"type\":\"AllLabels\"},{\"attributes\":{\"children\":[{\"id\":\"1560\"},{\"id\":\"1564\"},{\"id\":\"1621\"}],\"margin\":[0,0,0,0],\"name\":\"Row01458\",\"tags\":[\"embedded\"]},\"id\":\"1559\",\"type\":\"Row\"},{\"attributes\":{},\"id\":\"1581\",\"type\":\"SaveTool\"},{\"attributes\":{\"line_alpha\":0.2,\"line_color\":\"#30a2da\",\"line_width\":2,\"x\":{\"field\":\"year\"},\"y\":{\"field\":\"Total\"}},\"id\":\"1599\",\"type\":\"Line\"},{\"attributes\":{\"end\":2021.0,\"reset_end\":2021.0,\"reset_start\":2008.0,\"start\":2008.0,\"tags\":[[[\"year\",\"year\",null]]]},\"id\":\"1561\",\"type\":\"Range1d\"}],\"root_ids\":[\"1559\"]},\"title\":\"Bokeh Application\",\"version\":\"2.4.3\"}};\n",
       "    var render_items = [{\"docid\":\"cd69e02d-86b2-4235-adb8-4b8f156a072b\",\"root_ids\":[\"1559\"],\"roots\":{\"1559\":\"64d0d68e-8b74-4b5a-97ac-f59b123e0f93\"}}];\n",
       "    root.Bokeh.embed.embed_items_notebook(docs_json, render_items);\n",
       "  }\n",
       "  if (root.Bokeh !== undefined && root.Bokeh.Panel !== undefined) {\n",
       "    embed_document(root);\n",
       "  } else {\n",
       "    var attempts = 0;\n",
       "    var timer = setInterval(function(root) {\n",
       "      if (root.Bokeh !== undefined && root.Bokeh.Panel !== undefined) {\n",
       "        clearInterval(timer);\n",
       "        embed_document(root);\n",
       "      } else if (document.readyState == \"complete\") {\n",
       "        attempts++;\n",
       "        if (attempts > 200) {\n",
       "          clearInterval(timer);\n",
       "          console.log(\"Bokeh: ERROR: Unable to run BokehJS code because BokehJS library is missing\");\n",
       "        }\n",
       "      }\n",
       "    }, 25, root)\n",
       "  }\n",
       "})(window);</script>"
      ],
      "text/plain": [
       ":Curve   [year]   (Total)"
      ]
     },
     "execution_count": 31,
     "metadata": {
      "application/vnd.holoviews_exec.v0+json": {
       "id": "1559"
      }
     },
     "output_type": "execute_result"
    }
   ],
   "source": [
    "households_df = df_2.set_index('year')\n",
    "\n",
    "household_plot = households_df['Total'].hvplot(\n",
    "    ylabel=\"Total Households\",\n",
    "    rot=45,\n",
    "    label=\"Households in Phoenix\",\n",
    "    yformatter='%.0f'\n",
    ")\n",
    "household_plot"
   ]
  },
  {
   "cell_type": "code",
   "execution_count": 45,
   "id": "21de3b2c-113a-4686-b004-05581a4fed1d",
   "metadata": {},
   "outputs": [
    {
     "data": {},
     "metadata": {},
     "output_type": "display_data"
    },
    {
     "data": {
      "application/vnd.holoviews_exec.v0+json": "",
      "text/html": [
       "<div id='3002'>\n",
       "  <div class=\"bk-root\" id=\"6fd6fa3c-f8e5-458e-b9c3-634913f25eca\" data-root-id=\"3002\"></div>\n",
       "</div>\n",
       "<script type=\"application/javascript\">(function(root) {\n",
       "  function embed_document(root) {\n",
       "    var docs_json = {\"f764e6bc-d7da-4c5d-88a6-560b9bb496c8\":{\"defs\":[{\"extends\":null,\"module\":null,\"name\":\"ReactiveHTML1\",\"overrides\":[],\"properties\":[]},{\"extends\":null,\"module\":null,\"name\":\"FlexBox1\",\"overrides\":[],\"properties\":[{\"default\":\"flex-start\",\"kind\":null,\"name\":\"align_content\"},{\"default\":\"flex-start\",\"kind\":null,\"name\":\"align_items\"},{\"default\":\"row\",\"kind\":null,\"name\":\"flex_direction\"},{\"default\":\"wrap\",\"kind\":null,\"name\":\"flex_wrap\"},{\"default\":\"flex-start\",\"kind\":null,\"name\":\"justify_content\"}]},{\"extends\":null,\"module\":null,\"name\":\"GridStack1\",\"overrides\":[],\"properties\":[{\"default\":\"warn\",\"kind\":null,\"name\":\"mode\"},{\"default\":null,\"kind\":null,\"name\":\"ncols\"},{\"default\":null,\"kind\":null,\"name\":\"nrows\"},{\"default\":true,\"kind\":null,\"name\":\"allow_resize\"},{\"default\":true,\"kind\":null,\"name\":\"allow_drag\"},{\"default\":[],\"kind\":null,\"name\":\"state\"}]},{\"extends\":null,\"module\":null,\"name\":\"click1\",\"overrides\":[],\"properties\":[{\"default\":\"\",\"kind\":null,\"name\":\"terminal_output\"},{\"default\":\"\",\"kind\":null,\"name\":\"debug_name\"},{\"default\":0,\"kind\":null,\"name\":\"clears\"}]},{\"extends\":null,\"module\":null,\"name\":\"NotificationAreaBase1\",\"overrides\":[],\"properties\":[{\"default\":\"bottom-right\",\"kind\":null,\"name\":\"position\"},{\"default\":0,\"kind\":null,\"name\":\"_clear\"}]},{\"extends\":null,\"module\":null,\"name\":\"NotificationArea1\",\"overrides\":[],\"properties\":[{\"default\":[],\"kind\":null,\"name\":\"notifications\"},{\"default\":\"bottom-right\",\"kind\":null,\"name\":\"position\"},{\"default\":0,\"kind\":null,\"name\":\"_clear\"},{\"default\":[{\"background\":\"#ffc107\",\"icon\":{\"className\":\"fas fa-exclamation-triangle\",\"color\":\"white\",\"tagName\":\"i\"},\"type\":\"warning\"},{\"background\":\"#007bff\",\"icon\":{\"className\":\"fas fa-info-circle\",\"color\":\"white\",\"tagName\":\"i\"},\"type\":\"info\"}],\"kind\":null,\"name\":\"types\"}]},{\"extends\":null,\"module\":null,\"name\":\"Notification\",\"overrides\":[],\"properties\":[{\"default\":null,\"kind\":null,\"name\":\"background\"},{\"default\":3000,\"kind\":null,\"name\":\"duration\"},{\"default\":null,\"kind\":null,\"name\":\"icon\"},{\"default\":\"\",\"kind\":null,\"name\":\"message\"},{\"default\":null,\"kind\":null,\"name\":\"notification_type\"},{\"default\":false,\"kind\":null,\"name\":\"_destroyed\"}]},{\"extends\":null,\"module\":null,\"name\":\"TemplateActions1\",\"overrides\":[],\"properties\":[{\"default\":0,\"kind\":null,\"name\":\"open_modal\"},{\"default\":0,\"kind\":null,\"name\":\"close_modal\"}]},{\"extends\":null,\"module\":null,\"name\":\"MaterialTemplateActions1\",\"overrides\":[],\"properties\":[{\"default\":0,\"kind\":null,\"name\":\"open_modal\"},{\"default\":0,\"kind\":null,\"name\":\"close_modal\"}]}],\"roots\":{\"references\":[{\"attributes\":{\"tools\":[{\"id\":\"3006\"},{\"id\":\"3024\"},{\"id\":\"3025\"},{\"id\":\"3026\"},{\"id\":\"3027\"},{\"id\":\"3028\"}]},\"id\":\"3030\",\"type\":\"Toolbar\"},{\"attributes\":{\"axis\":{\"id\":\"3020\"},\"coordinates\":null,\"dimension\":1,\"grid_line_color\":null,\"group\":null,\"ticker\":null},\"id\":\"3023\",\"type\":\"Grid\"},{\"attributes\":{},\"id\":\"3048\",\"type\":\"BasicTickFormatter\"},{\"attributes\":{\"margin\":[5,5,5,5],\"name\":\"HSpacer02705\",\"sizing_mode\":\"stretch_width\"},\"id\":\"3003\",\"type\":\"Spacer\"},{\"attributes\":{\"axis_label\":\"year\",\"coordinates\":null,\"formatter\":{\"id\":\"3048\"},\"group\":null,\"major_label_policy\":{\"id\":\"3049\"},\"ticker\":{\"id\":\"3017\"}},\"id\":\"3016\",\"type\":\"LinearAxis\"},{\"attributes\":{\"bottom_units\":\"screen\",\"coordinates\":null,\"fill_alpha\":0.5,\"fill_color\":\"lightgrey\",\"group\":null,\"left_units\":\"screen\",\"level\":\"overlay\",\"line_alpha\":1.0,\"line_color\":\"black\",\"line_dash\":[4,4],\"line_width\":2,\"right_units\":\"screen\",\"syncable\":false,\"top_units\":\"screen\"},\"id\":\"3029\",\"type\":\"BoxAnnotation\"},{\"attributes\":{},\"id\":\"3012\",\"type\":\"LinearScale\"},{\"attributes\":{},\"id\":\"3028\",\"type\":\"ResetTool\"},{\"attributes\":{\"children\":[{\"id\":\"3003\"},{\"id\":\"3007\"},{\"id\":\"3064\"}],\"margin\":[0,0,0,0],\"name\":\"Row02701\",\"tags\":[\"embedded\"]},\"id\":\"3002\",\"type\":\"Row\"},{\"attributes\":{},\"id\":\"3024\",\"type\":\"SaveTool\"},{\"attributes\":{\"margin\":[5,5,5,5],\"name\":\"HSpacer02706\",\"sizing_mode\":\"stretch_width\"},\"id\":\"3064\",\"type\":\"Spacer\"},{\"attributes\":{\"coordinates\":null,\"data_source\":{\"id\":\"3037\"},\"glyph\":{\"id\":\"3040\"},\"group\":null,\"hover_glyph\":null,\"muted_glyph\":{\"id\":\"3042\"},\"nonselection_glyph\":{\"id\":\"3041\"},\"selection_glyph\":{\"id\":\"3045\"},\"view\":{\"id\":\"3044\"}},\"id\":\"3043\",\"type\":\"GlyphRenderer\"},{\"attributes\":{\"axis\":{\"id\":\"3016\"},\"coordinates\":null,\"grid_line_color\":null,\"group\":null,\"ticker\":null},\"id\":\"3019\",\"type\":\"Grid\"},{\"attributes\":{},\"id\":\"3026\",\"type\":\"WheelZoomTool\"},{\"attributes\":{},\"id\":\"3038\",\"type\":\"Selection\"},{\"attributes\":{\"line_alpha\":0.2,\"line_color\":\"#30a2da\",\"line_width\":2,\"x\":{\"field\":\"year\"},\"y\":{\"field\":\"Family households\"}},\"id\":\"3042\",\"type\":\"Line\"},{\"attributes\":{\"data\":{\"Family households\":[308067,335343,326132,329717,326255,326530,331653,336611,356533,355797,363791,376518,385022],\"Family_households\":[308067,335343,326132,329717,326255,326530,331653,336611,356533,355797,363791,376518,385022],\"year\":[2008,2009,2010,2011,2012,2013,2014,2015,2016,2017,2018,2019,2021]},\"selected\":{\"id\":\"3038\"},\"selection_policy\":{\"id\":\"3061\"}},\"id\":\"3037\",\"type\":\"ColumnDataSource\"},{\"attributes\":{},\"id\":\"3025\",\"type\":\"PanTool\"},{\"attributes\":{\"source\":{\"id\":\"3037\"}},\"id\":\"3044\",\"type\":\"CDSView\"},{\"attributes\":{\"coordinates\":null,\"group\":null,\"text\":\"With a Family\",\"text_color\":\"black\",\"text_font_size\":\"12pt\"},\"id\":\"3008\",\"type\":\"Title\"},{\"attributes\":{\"line_color\":\"#30a2da\",\"line_width\":2,\"x\":{\"field\":\"year\"},\"y\":{\"field\":\"Family households\"}},\"id\":\"3040\",\"type\":\"Line\"},{\"attributes\":{\"overlay\":{\"id\":\"3029\"}},\"id\":\"3027\",\"type\":\"BoxZoomTool\"},{\"attributes\":{},\"id\":\"3052\",\"type\":\"AllLabels\"},{\"attributes\":{},\"id\":\"3061\",\"type\":\"UnionRenderers\"},{\"attributes\":{},\"id\":\"3014\",\"type\":\"LinearScale\"},{\"attributes\":{\"axis_label\":\"Households with a Family\",\"coordinates\":null,\"formatter\":{\"id\":\"3046\"},\"group\":null,\"major_label_policy\":{\"id\":\"3052\"},\"ticker\":{\"id\":\"3021\"}},\"id\":\"3020\",\"type\":\"LinearAxis\"},{\"attributes\":{},\"id\":\"3021\",\"type\":\"BasicTicker\"},{\"attributes\":{\"format\":\"%.0f\"},\"id\":\"3046\",\"type\":\"PrintfTickFormatter\"},{\"attributes\":{\"callback\":null,\"renderers\":[{\"id\":\"3043\"}],\"tags\":[\"hv_created\"],\"tooltips\":[[\"year\",\"@{year}\"],[\"Family households\",\"@{Family_households}\"]]},\"id\":\"3006\",\"type\":\"HoverTool\"},{\"attributes\":{},\"id\":\"3049\",\"type\":\"AllLabels\"},{\"attributes\":{\"end\":2021.0,\"reset_end\":2021.0,\"reset_start\":2008.0,\"start\":2008.0,\"tags\":[[[\"year\",\"year\",null]]]},\"id\":\"3004\",\"type\":\"Range1d\"},{\"attributes\":{\"line_color\":\"#30a2da\",\"line_width\":2,\"x\":{\"field\":\"year\"},\"y\":{\"field\":\"Family households\"}},\"id\":\"3045\",\"type\":\"Line\"},{\"attributes\":{\"line_alpha\":0.1,\"line_color\":\"#30a2da\",\"line_width\":2,\"x\":{\"field\":\"year\"},\"y\":{\"field\":\"Family households\"}},\"id\":\"3041\",\"type\":\"Line\"},{\"attributes\":{\"end\":392717.5,\"reset_end\":392717.5,\"reset_start\":300371.5,\"start\":300371.5,\"tags\":[[[\"Family households\",\"Family households\",null]]]},\"id\":\"3005\",\"type\":\"Range1d\"},{\"attributes\":{},\"id\":\"3017\",\"type\":\"BasicTicker\"},{\"attributes\":{\"below\":[{\"id\":\"3016\"}],\"center\":[{\"id\":\"3019\"},{\"id\":\"3023\"}],\"height\":300,\"left\":[{\"id\":\"3020\"}],\"margin\":[5,5,5,5],\"min_border_bottom\":10,\"min_border_left\":10,\"min_border_right\":10,\"min_border_top\":10,\"renderers\":[{\"id\":\"3043\"}],\"sizing_mode\":\"fixed\",\"title\":{\"id\":\"3008\"},\"toolbar\":{\"id\":\"3030\"},\"width\":700,\"x_range\":{\"id\":\"3004\"},\"x_scale\":{\"id\":\"3012\"},\"y_range\":{\"id\":\"3005\"},\"y_scale\":{\"id\":\"3014\"}},\"id\":\"3007\",\"subtype\":\"Figure\",\"type\":\"Plot\"}],\"root_ids\":[\"3002\"]},\"title\":\"Bokeh Application\",\"version\":\"2.4.3\"}};\n",
       "    var render_items = [{\"docid\":\"f764e6bc-d7da-4c5d-88a6-560b9bb496c8\",\"root_ids\":[\"3002\"],\"roots\":{\"3002\":\"6fd6fa3c-f8e5-458e-b9c3-634913f25eca\"}}];\n",
       "    root.Bokeh.embed.embed_items_notebook(docs_json, render_items);\n",
       "  }\n",
       "  if (root.Bokeh !== undefined && root.Bokeh.Panel !== undefined) {\n",
       "    embed_document(root);\n",
       "  } else {\n",
       "    var attempts = 0;\n",
       "    var timer = setInterval(function(root) {\n",
       "      if (root.Bokeh !== undefined && root.Bokeh.Panel !== undefined) {\n",
       "        clearInterval(timer);\n",
       "        embed_document(root);\n",
       "      } else if (document.readyState == \"complete\") {\n",
       "        attempts++;\n",
       "        if (attempts > 200) {\n",
       "          clearInterval(timer);\n",
       "          console.log(\"Bokeh: ERROR: Unable to run BokehJS code because BokehJS library is missing\");\n",
       "        }\n",
       "      }\n",
       "    }, 25, root)\n",
       "  }\n",
       "})(window);</script>"
      ],
      "text/plain": [
       ":Curve   [year]   (Family households)"
      ]
     },
     "execution_count": 45,
     "metadata": {
      "application/vnd.holoviews_exec.v0+json": {
       "id": "3002"
      }
     },
     "output_type": "execute_result"
    }
   ],
   "source": [
    "family_df = households_df['Family households'].hvplot(\n",
    "    ylabel=\"Households with a Family\",\n",
    "    label=\"With a Family\",\n",
    "    yformatter='%.0f'\n",
    "    )\n",
    "family_df"
   ]
  },
  {
   "cell_type": "code",
   "execution_count": 43,
   "id": "3e9844c2-2ac1-456f-b405-0a175d4aa6fc",
   "metadata": {},
   "outputs": [
    {
     "data": {},
     "metadata": {},
     "output_type": "display_data"
    },
    {
     "data": {
      "application/vnd.holoviews_exec.v0+json": "",
      "text/html": [
       "<div id='2784'>\n",
       "  <div class=\"bk-root\" id=\"ea2d6e83-d967-4aef-910d-cd1dc75047c9\" data-root-id=\"2784\"></div>\n",
       "</div>\n",
       "<script type=\"application/javascript\">(function(root) {\n",
       "  function embed_document(root) {\n",
       "    var docs_json = {\"b3e1b345-a7ba-405c-a453-fa13c55dba8c\":{\"defs\":[{\"extends\":null,\"module\":null,\"name\":\"ReactiveHTML1\",\"overrides\":[],\"properties\":[]},{\"extends\":null,\"module\":null,\"name\":\"FlexBox1\",\"overrides\":[],\"properties\":[{\"default\":\"flex-start\",\"kind\":null,\"name\":\"align_content\"},{\"default\":\"flex-start\",\"kind\":null,\"name\":\"align_items\"},{\"default\":\"row\",\"kind\":null,\"name\":\"flex_direction\"},{\"default\":\"wrap\",\"kind\":null,\"name\":\"flex_wrap\"},{\"default\":\"flex-start\",\"kind\":null,\"name\":\"justify_content\"}]},{\"extends\":null,\"module\":null,\"name\":\"GridStack1\",\"overrides\":[],\"properties\":[{\"default\":\"warn\",\"kind\":null,\"name\":\"mode\"},{\"default\":null,\"kind\":null,\"name\":\"ncols\"},{\"default\":null,\"kind\":null,\"name\":\"nrows\"},{\"default\":true,\"kind\":null,\"name\":\"allow_resize\"},{\"default\":true,\"kind\":null,\"name\":\"allow_drag\"},{\"default\":[],\"kind\":null,\"name\":\"state\"}]},{\"extends\":null,\"module\":null,\"name\":\"click1\",\"overrides\":[],\"properties\":[{\"default\":\"\",\"kind\":null,\"name\":\"terminal_output\"},{\"default\":\"\",\"kind\":null,\"name\":\"debug_name\"},{\"default\":0,\"kind\":null,\"name\":\"clears\"}]},{\"extends\":null,\"module\":null,\"name\":\"NotificationAreaBase1\",\"overrides\":[],\"properties\":[{\"default\":\"bottom-right\",\"kind\":null,\"name\":\"position\"},{\"default\":0,\"kind\":null,\"name\":\"_clear\"}]},{\"extends\":null,\"module\":null,\"name\":\"NotificationArea1\",\"overrides\":[],\"properties\":[{\"default\":[],\"kind\":null,\"name\":\"notifications\"},{\"default\":\"bottom-right\",\"kind\":null,\"name\":\"position\"},{\"default\":0,\"kind\":null,\"name\":\"_clear\"},{\"default\":[{\"background\":\"#ffc107\",\"icon\":{\"className\":\"fas fa-exclamation-triangle\",\"color\":\"white\",\"tagName\":\"i\"},\"type\":\"warning\"},{\"background\":\"#007bff\",\"icon\":{\"className\":\"fas fa-info-circle\",\"color\":\"white\",\"tagName\":\"i\"},\"type\":\"info\"}],\"kind\":null,\"name\":\"types\"}]},{\"extends\":null,\"module\":null,\"name\":\"Notification\",\"overrides\":[],\"properties\":[{\"default\":null,\"kind\":null,\"name\":\"background\"},{\"default\":3000,\"kind\":null,\"name\":\"duration\"},{\"default\":null,\"kind\":null,\"name\":\"icon\"},{\"default\":\"\",\"kind\":null,\"name\":\"message\"},{\"default\":null,\"kind\":null,\"name\":\"notification_type\"},{\"default\":false,\"kind\":null,\"name\":\"_destroyed\"}]},{\"extends\":null,\"module\":null,\"name\":\"TemplateActions1\",\"overrides\":[],\"properties\":[{\"default\":0,\"kind\":null,\"name\":\"open_modal\"},{\"default\":0,\"kind\":null,\"name\":\"close_modal\"}]},{\"extends\":null,\"module\":null,\"name\":\"MaterialTemplateActions1\",\"overrides\":[],\"properties\":[{\"default\":0,\"kind\":null,\"name\":\"open_modal\"},{\"default\":0,\"kind\":null,\"name\":\"close_modal\"}]}],\"roots\":{\"references\":[{\"attributes\":{\"margin\":[5,5,5,5],\"name\":\"HSpacer02496\",\"sizing_mode\":\"stretch_width\"},\"id\":\"2846\",\"type\":\"Spacer\"},{\"attributes\":{\"end\":2021.0,\"reset_end\":2021.0,\"reset_start\":2008.0,\"start\":2008.0,\"tags\":[[[\"year\",\"year\",null]]]},\"id\":\"2786\",\"type\":\"Range1d\"},{\"attributes\":{\"below\":[{\"id\":\"2798\"}],\"center\":[{\"id\":\"2801\"},{\"id\":\"2805\"}],\"height\":300,\"left\":[{\"id\":\"2802\"}],\"margin\":[5,5,5,5],\"min_border_bottom\":10,\"min_border_left\":10,\"min_border_right\":10,\"min_border_top\":10,\"renderers\":[{\"id\":\"2825\"}],\"sizing_mode\":\"fixed\",\"title\":{\"id\":\"2790\"},\"toolbar\":{\"id\":\"2812\"},\"width\":700,\"x_range\":{\"id\":\"2786\"},\"x_scale\":{\"id\":\"2794\"},\"y_range\":{\"id\":\"2787\"},\"y_scale\":{\"id\":\"2796\"}},\"id\":\"2789\",\"subtype\":\"Figure\",\"type\":\"Plot\"},{\"attributes\":{\"source\":{\"id\":\"2819\"}},\"id\":\"2826\",\"type\":\"CDSView\"},{\"attributes\":{},\"id\":\"2834\",\"type\":\"AllLabels\"},{\"attributes\":{\"tools\":[{\"id\":\"2788\"},{\"id\":\"2806\"},{\"id\":\"2807\"},{\"id\":\"2808\"},{\"id\":\"2809\"},{\"id\":\"2810\"}]},\"id\":\"2812\",\"type\":\"Toolbar\"},{\"attributes\":{},\"id\":\"2820\",\"type\":\"Selection\"},{\"attributes\":{\"bottom_units\":\"screen\",\"coordinates\":null,\"fill_alpha\":0.5,\"fill_color\":\"lightgrey\",\"group\":null,\"left_units\":\"screen\",\"level\":\"overlay\",\"line_alpha\":1.0,\"line_color\":\"black\",\"line_dash\":[4,4],\"line_width\":2,\"right_units\":\"screen\",\"syncable\":false,\"top_units\":\"screen\"},\"id\":\"2811\",\"type\":\"BoxAnnotation\"},{\"attributes\":{\"line_alpha\":0.1,\"line_color\":\"#30a2da\",\"line_width\":2,\"x\":{\"field\":\"year\"},\"y\":{\"field\":\"Nonfamily households\"}},\"id\":\"2823\",\"type\":\"Line\"},{\"attributes\":{},\"id\":\"2806\",\"type\":\"SaveTool\"},{\"attributes\":{\"coordinates\":null,\"data_source\":{\"id\":\"2819\"},\"glyph\":{\"id\":\"2822\"},\"group\":null,\"hover_glyph\":null,\"muted_glyph\":{\"id\":\"2824\"},\"nonselection_glyph\":{\"id\":\"2823\"},\"selection_glyph\":{\"id\":\"2827\"},\"view\":{\"id\":\"2826\"}},\"id\":\"2825\",\"type\":\"GlyphRenderer\"},{\"attributes\":{},\"id\":\"2807\",\"type\":\"PanTool\"},{\"attributes\":{},\"id\":\"2810\",\"type\":\"ResetTool\"},{\"attributes\":{},\"id\":\"2803\",\"type\":\"BasicTicker\"},{\"attributes\":{\"line_alpha\":0.2,\"line_color\":\"#30a2da\",\"line_width\":2,\"x\":{\"field\":\"year\"},\"y\":{\"field\":\"Nonfamily households\"}},\"id\":\"2824\",\"type\":\"Line\"},{\"attributes\":{},\"id\":\"2808\",\"type\":\"WheelZoomTool\"},{\"attributes\":{\"overlay\":{\"id\":\"2811\"}},\"id\":\"2809\",\"type\":\"BoxZoomTool\"},{\"attributes\":{\"margin\":[5,5,5,5],\"name\":\"HSpacer02495\",\"sizing_mode\":\"stretch_width\"},\"id\":\"2785\",\"type\":\"Spacer\"},{\"attributes\":{\"data\":{\"Nonfamily households\":[185831,181312,185300,189652,195300,190746,200557,197588,199420,203358,210854,210360,217017],\"Nonfamily_households\":[185831,181312,185300,189652,195300,190746,200557,197588,199420,203358,210854,210360,217017],\"year\":[2008,2009,2010,2011,2012,2013,2014,2015,2016,2017,2018,2019,2021]},\"selected\":{\"id\":\"2820\"},\"selection_policy\":{\"id\":\"2843\"}},\"id\":\"2819\",\"type\":\"ColumnDataSource\"},{\"attributes\":{},\"id\":\"2843\",\"type\":\"UnionRenderers\"},{\"attributes\":{},\"id\":\"2799\",\"type\":\"BasicTicker\"},{\"attributes\":{},\"id\":\"2794\",\"type\":\"LinearScale\"},{\"attributes\":{\"coordinates\":null,\"group\":null,\"text\":\"Without a Family\",\"text_color\":\"black\",\"text_font_size\":\"12pt\"},\"id\":\"2790\",\"type\":\"Title\"},{\"attributes\":{\"axis\":{\"id\":\"2798\"},\"coordinates\":null,\"grid_line_color\":null,\"group\":null,\"ticker\":null},\"id\":\"2801\",\"type\":\"Grid\"},{\"attributes\":{\"format\":\"%.0f\"},\"id\":\"2828\",\"type\":\"PrintfTickFormatter\"},{\"attributes\":{},\"id\":\"2831\",\"type\":\"AllLabels\"},{\"attributes\":{},\"id\":\"2796\",\"type\":\"LinearScale\"},{\"attributes\":{\"axis_label\":\"Households without a Family\",\"coordinates\":null,\"formatter\":{\"id\":\"2828\"},\"group\":null,\"major_label_policy\":{\"id\":\"2834\"},\"ticker\":{\"id\":\"2803\"}},\"id\":\"2802\",\"type\":\"LinearAxis\"},{\"attributes\":{\"axis_label\":\"year\",\"coordinates\":null,\"formatter\":{\"id\":\"2830\"},\"group\":null,\"major_label_policy\":{\"id\":\"2831\"},\"ticker\":{\"id\":\"2799\"}},\"id\":\"2798\",\"type\":\"LinearAxis\"},{\"attributes\":{\"end\":220587.5,\"reset_end\":220587.5,\"reset_start\":177741.5,\"start\":177741.5,\"tags\":[[[\"Nonfamily households\",\"Nonfamily households\",null]]]},\"id\":\"2787\",\"type\":\"Range1d\"},{\"attributes\":{\"line_color\":\"#30a2da\",\"line_width\":2,\"x\":{\"field\":\"year\"},\"y\":{\"field\":\"Nonfamily households\"}},\"id\":\"2827\",\"type\":\"Line\"},{\"attributes\":{\"line_color\":\"#30a2da\",\"line_width\":2,\"x\":{\"field\":\"year\"},\"y\":{\"field\":\"Nonfamily households\"}},\"id\":\"2822\",\"type\":\"Line\"},{\"attributes\":{\"axis\":{\"id\":\"2802\"},\"coordinates\":null,\"dimension\":1,\"grid_line_color\":null,\"group\":null,\"ticker\":null},\"id\":\"2805\",\"type\":\"Grid\"},{\"attributes\":{\"callback\":null,\"renderers\":[{\"id\":\"2825\"}],\"tags\":[\"hv_created\"],\"tooltips\":[[\"year\",\"@{year}\"],[\"Nonfamily households\",\"@{Nonfamily_households}\"]]},\"id\":\"2788\",\"type\":\"HoverTool\"},{\"attributes\":{},\"id\":\"2830\",\"type\":\"BasicTickFormatter\"},{\"attributes\":{\"children\":[{\"id\":\"2785\"},{\"id\":\"2789\"},{\"id\":\"2846\"}],\"margin\":[0,0,0,0],\"name\":\"Row02491\",\"tags\":[\"embedded\"]},\"id\":\"2784\",\"type\":\"Row\"}],\"root_ids\":[\"2784\"]},\"title\":\"Bokeh Application\",\"version\":\"2.4.3\"}};\n",
       "    var render_items = [{\"docid\":\"b3e1b345-a7ba-405c-a453-fa13c55dba8c\",\"root_ids\":[\"2784\"],\"roots\":{\"2784\":\"ea2d6e83-d967-4aef-910d-cd1dc75047c9\"}}];\n",
       "    root.Bokeh.embed.embed_items_notebook(docs_json, render_items);\n",
       "  }\n",
       "  if (root.Bokeh !== undefined && root.Bokeh.Panel !== undefined) {\n",
       "    embed_document(root);\n",
       "  } else {\n",
       "    var attempts = 0;\n",
       "    var timer = setInterval(function(root) {\n",
       "      if (root.Bokeh !== undefined && root.Bokeh.Panel !== undefined) {\n",
       "        clearInterval(timer);\n",
       "        embed_document(root);\n",
       "      } else if (document.readyState == \"complete\") {\n",
       "        attempts++;\n",
       "        if (attempts > 200) {\n",
       "          clearInterval(timer);\n",
       "          console.log(\"Bokeh: ERROR: Unable to run BokehJS code because BokehJS library is missing\");\n",
       "        }\n",
       "      }\n",
       "    }, 25, root)\n",
       "  }\n",
       "})(window);</script>"
      ],
      "text/plain": [
       ":Curve   [year]   (Nonfamily households)"
      ]
     },
     "execution_count": 43,
     "metadata": {
      "application/vnd.holoviews_exec.v0+json": {
       "id": "2784"
      }
     },
     "output_type": "execute_result"
    }
   ],
   "source": [
    "non_family_df = households_df['Nonfamily households'].hvplot(\n",
    "    ylabel=\"Households without a Family\",\n",
    "    label=\"Without a Family\",\n",
    "    yformatter='%.0f'\n",
    "    )\n",
    "non_family_df"
   ]
  },
  {
   "cell_type": "code",
   "execution_count": 58,
   "id": "9ef7fe16-00e1-40c2-9e37-2e6b71c8cebb",
   "metadata": {},
   "outputs": [
    {
     "data": {},
     "metadata": {},
     "output_type": "display_data"
    },
    {
     "data": {
      "application/vnd.holoviews_exec.v0+json": "",
      "text/html": [
       "<div id='4071'>\n",
       "  <div class=\"bk-root\" id=\"5758cf6a-9cf0-4c6d-94a2-944bd67041d9\" data-root-id=\"4071\"></div>\n",
       "</div>\n",
       "<script type=\"application/javascript\">(function(root) {\n",
       "  function embed_document(root) {\n",
       "    var docs_json = {\"a58b05bd-3400-4774-b303-d5013567f110\":{\"defs\":[{\"extends\":null,\"module\":null,\"name\":\"ReactiveHTML1\",\"overrides\":[],\"properties\":[]},{\"extends\":null,\"module\":null,\"name\":\"FlexBox1\",\"overrides\":[],\"properties\":[{\"default\":\"flex-start\",\"kind\":null,\"name\":\"align_content\"},{\"default\":\"flex-start\",\"kind\":null,\"name\":\"align_items\"},{\"default\":\"row\",\"kind\":null,\"name\":\"flex_direction\"},{\"default\":\"wrap\",\"kind\":null,\"name\":\"flex_wrap\"},{\"default\":\"flex-start\",\"kind\":null,\"name\":\"justify_content\"}]},{\"extends\":null,\"module\":null,\"name\":\"GridStack1\",\"overrides\":[],\"properties\":[{\"default\":\"warn\",\"kind\":null,\"name\":\"mode\"},{\"default\":null,\"kind\":null,\"name\":\"ncols\"},{\"default\":null,\"kind\":null,\"name\":\"nrows\"},{\"default\":true,\"kind\":null,\"name\":\"allow_resize\"},{\"default\":true,\"kind\":null,\"name\":\"allow_drag\"},{\"default\":[],\"kind\":null,\"name\":\"state\"}]},{\"extends\":null,\"module\":null,\"name\":\"click1\",\"overrides\":[],\"properties\":[{\"default\":\"\",\"kind\":null,\"name\":\"terminal_output\"},{\"default\":\"\",\"kind\":null,\"name\":\"debug_name\"},{\"default\":0,\"kind\":null,\"name\":\"clears\"}]},{\"extends\":null,\"module\":null,\"name\":\"NotificationAreaBase1\",\"overrides\":[],\"properties\":[{\"default\":\"bottom-right\",\"kind\":null,\"name\":\"position\"},{\"default\":0,\"kind\":null,\"name\":\"_clear\"}]},{\"extends\":null,\"module\":null,\"name\":\"NotificationArea1\",\"overrides\":[],\"properties\":[{\"default\":[],\"kind\":null,\"name\":\"notifications\"},{\"default\":\"bottom-right\",\"kind\":null,\"name\":\"position\"},{\"default\":0,\"kind\":null,\"name\":\"_clear\"},{\"default\":[{\"background\":\"#ffc107\",\"icon\":{\"className\":\"fas fa-exclamation-triangle\",\"color\":\"white\",\"tagName\":\"i\"},\"type\":\"warning\"},{\"background\":\"#007bff\",\"icon\":{\"className\":\"fas fa-info-circle\",\"color\":\"white\",\"tagName\":\"i\"},\"type\":\"info\"}],\"kind\":null,\"name\":\"types\"}]},{\"extends\":null,\"module\":null,\"name\":\"Notification\",\"overrides\":[],\"properties\":[{\"default\":null,\"kind\":null,\"name\":\"background\"},{\"default\":3000,\"kind\":null,\"name\":\"duration\"},{\"default\":null,\"kind\":null,\"name\":\"icon\"},{\"default\":\"\",\"kind\":null,\"name\":\"message\"},{\"default\":null,\"kind\":null,\"name\":\"notification_type\"},{\"default\":false,\"kind\":null,\"name\":\"_destroyed\"}]},{\"extends\":null,\"module\":null,\"name\":\"TemplateActions1\",\"overrides\":[],\"properties\":[{\"default\":0,\"kind\":null,\"name\":\"open_modal\"},{\"default\":0,\"kind\":null,\"name\":\"close_modal\"}]},{\"extends\":null,\"module\":null,\"name\":\"MaterialTemplateActions1\",\"overrides\":[],\"properties\":[{\"default\":0,\"kind\":null,\"name\":\"open_modal\"},{\"default\":0,\"kind\":null,\"name\":\"close_modal\"}]}],\"roots\":{\"references\":[{\"attributes\":{},\"id\":\"4120\",\"type\":\"Selection\"},{\"attributes\":{\"source\":{\"id\":\"4119\"}},\"id\":\"4126\",\"type\":\"CDSView\"},{\"attributes\":{\"callback\":null,\"renderers\":[{\"id\":\"4166\"}],\"tags\":[\"hv_created\"],\"tooltips\":[[\"year\",\"@{year}\"],[\"Nonfamily households\",\"@{Nonfamily_households}\"]]},\"id\":\"4077\",\"type\":\"HoverTool\"},{\"attributes\":{},\"id\":\"4116\",\"type\":\"AllLabels\"},{\"attributes\":{\"coordinates\":null,\"data_source\":{\"id\":\"4160\"},\"glyph\":{\"id\":\"4163\"},\"group\":null,\"hover_glyph\":null,\"muted_glyph\":{\"id\":\"4165\"},\"nonselection_glyph\":{\"id\":\"4164\"},\"selection_glyph\":{\"id\":\"4182\"},\"view\":{\"id\":\"4167\"}},\"id\":\"4166\",\"type\":\"GlyphRenderer\"},{\"attributes\":{\"callback\":null,\"renderers\":[{\"id\":\"4145\"}],\"tags\":[\"hv_created\"],\"tooltips\":[[\"year\",\"@{year}\"],[\"Total\",\"@{Total}\"]]},\"id\":\"4076\",\"type\":\"HoverTool\"},{\"attributes\":{\"line_color\":\"#fc4f30\",\"line_width\":2,\"x\":{\"field\":\"year\"},\"y\":{\"field\":\"Total\"}},\"id\":\"4159\",\"type\":\"Line\"},{\"attributes\":{},\"id\":\"4133\",\"type\":\"UnionRenderers\"},{\"attributes\":{\"line_alpha\":0.1,\"line_color\":\"#30a2da\",\"line_width\":2,\"x\":{\"field\":\"year\"},\"y\":{\"field\":\"Family households\"}},\"id\":\"4123\",\"type\":\"Line\"},{\"attributes\":{},\"id\":\"4155\",\"type\":\"UnionRenderers\"},{\"attributes\":{\"margin\":[5,5,5,5],\"name\":\"HSpacer03185\",\"sizing_mode\":\"stretch_width\"},\"id\":\"4196\",\"type\":\"Spacer\"},{\"attributes\":{},\"id\":\"4161\",\"type\":\"Selection\"},{\"attributes\":{\"bottom_units\":\"screen\",\"coordinates\":null,\"fill_alpha\":0.5,\"fill_color\":\"lightgrey\",\"group\":null,\"left_units\":\"screen\",\"level\":\"overlay\",\"line_alpha\":1.0,\"line_color\":\"black\",\"line_dash\":[4,4],\"line_width\":2,\"right_units\":\"screen\",\"syncable\":false,\"top_units\":\"screen\"},\"id\":\"4100\",\"type\":\"BoxAnnotation\"},{\"attributes\":{\"data\":{\"Total\":[493898,516655,511432,519369,521555,517276,532210,534199,555953,559155,574645,586878,602039],\"year\":[2008,2009,2010,2011,2012,2013,2014,2015,2016,2017,2018,2019,2021]},\"selected\":{\"id\":\"4140\"},\"selection_policy\":{\"id\":\"4155\"}},\"id\":\"4139\",\"type\":\"ColumnDataSource\"},{\"attributes\":{\"line_alpha\":0.2,\"line_color\":\"#e5ae38\",\"line_width\":2,\"x\":{\"field\":\"year\"},\"y\":{\"field\":\"Nonfamily households\"}},\"id\":\"4165\",\"type\":\"Line\"},{\"attributes\":{},\"id\":\"4095\",\"type\":\"SaveTool\"},{\"attributes\":{\"line_alpha\":0.1,\"line_color\":\"#e5ae38\",\"line_width\":2,\"x\":{\"field\":\"year\"},\"y\":{\"field\":\"Nonfamily households\"}},\"id\":\"4164\",\"type\":\"Line\"},{\"attributes\":{},\"id\":\"4096\",\"type\":\"PanTool\"},{\"attributes\":{\"line_color\":\"#e5ae38\",\"line_width\":2,\"x\":{\"field\":\"year\"},\"y\":{\"field\":\"Nonfamily households\"}},\"id\":\"4163\",\"type\":\"Line\"},{\"attributes\":{},\"id\":\"4097\",\"type\":\"WheelZoomTool\"},{\"attributes\":{\"label\":{\"value\":\"Households in Phoenix\"},\"renderers\":[{\"id\":\"4145\"}]},\"id\":\"4158\",\"type\":\"LegendItem\"},{\"attributes\":{\"click_policy\":\"mute\",\"coordinates\":null,\"group\":null,\"items\":[{\"id\":\"4137\"},{\"id\":\"4158\"},{\"id\":\"4181\"}]},\"id\":\"4136\",\"type\":\"Legend\"},{\"attributes\":{},\"id\":\"4092\",\"type\":\"BasicTicker\"},{\"attributes\":{\"coordinates\":null,\"data_source\":{\"id\":\"4119\"},\"glyph\":{\"id\":\"4122\"},\"group\":null,\"hover_glyph\":null,\"muted_glyph\":{\"id\":\"4124\"},\"nonselection_glyph\":{\"id\":\"4123\"},\"selection_glyph\":{\"id\":\"4138\"},\"view\":{\"id\":\"4126\"}},\"id\":\"4125\",\"type\":\"GlyphRenderer\"},{\"attributes\":{\"data\":{\"Nonfamily households\":[185831,181312,185300,189652,195300,190746,200557,197588,199420,203358,210854,210360,217017],\"Nonfamily_households\":[185831,181312,185300,189652,195300,190746,200557,197588,199420,203358,210854,210360,217017],\"year\":[2008,2009,2010,2011,2012,2013,2014,2015,2016,2017,2018,2019,2021]},\"selected\":{\"id\":\"4161\"},\"selection_policy\":{\"id\":\"4178\"}},\"id\":\"4160\",\"type\":\"ColumnDataSource\"},{\"attributes\":{\"label\":{\"value\":\"With a Family\"},\"renderers\":[{\"id\":\"4125\"}]},\"id\":\"4137\",\"type\":\"LegendItem\"},{\"attributes\":{\"data\":{\"Family households\":[308067,335343,326132,329717,326255,326530,331653,336611,356533,355797,363791,376518,385022],\"Family_households\":[308067,335343,326132,329717,326255,326530,331653,336611,356533,355797,363791,376518,385022],\"year\":[2008,2009,2010,2011,2012,2013,2014,2015,2016,2017,2018,2019,2021]},\"selected\":{\"id\":\"4120\"},\"selection_policy\":{\"id\":\"4133\"}},\"id\":\"4119\",\"type\":\"ColumnDataSource\"},{\"attributes\":{\"line_color\":\"#e5ae38\",\"line_width\":2,\"x\":{\"field\":\"year\"},\"y\":{\"field\":\"Nonfamily households\"}},\"id\":\"4182\",\"type\":\"Line\"},{\"attributes\":{\"coordinates\":null,\"data_source\":{\"id\":\"4139\"},\"glyph\":{\"id\":\"4142\"},\"group\":null,\"hover_glyph\":null,\"muted_glyph\":{\"id\":\"4144\"},\"nonselection_glyph\":{\"id\":\"4143\"},\"selection_glyph\":{\"id\":\"4159\"},\"view\":{\"id\":\"4146\"}},\"id\":\"4145\",\"type\":\"GlyphRenderer\"},{\"attributes\":{\"overlay\":{\"id\":\"4100\"}},\"id\":\"4098\",\"type\":\"BoxZoomTool\"},{\"attributes\":{},\"id\":\"4088\",\"type\":\"BasicTicker\"},{\"attributes\":{},\"id\":\"4140\",\"type\":\"Selection\"},{\"attributes\":{\"coordinates\":null,\"group\":null,\"text\":\"Housing in Phoenix\",\"text_color\":\"black\",\"text_font_size\":\"12pt\"},\"id\":\"4079\",\"type\":\"Title\"},{\"attributes\":{},\"id\":\"4099\",\"type\":\"ResetTool\"},{\"attributes\":{\"source\":{\"id\":\"4139\"}},\"id\":\"4146\",\"type\":\"CDSView\"},{\"attributes\":{\"callback\":null,\"renderers\":[{\"id\":\"4125\"}],\"tags\":[\"hv_created\"],\"tooltips\":[[\"year\",\"@{year}\"],[\"Family households\",\"@{Family_households}\"]]},\"id\":\"4075\",\"type\":\"HoverTool\"},{\"attributes\":{\"end\":2021.0,\"reset_end\":2021.0,\"reset_start\":2008.0,\"start\":2008.0,\"tags\":[[[\"year\",\"year\",null]]]},\"id\":\"4073\",\"type\":\"Range1d\"},{\"attributes\":{\"axis\":{\"id\":\"4087\"},\"coordinates\":null,\"grid_line_color\":null,\"group\":null,\"ticker\":null},\"id\":\"4090\",\"type\":\"Grid\"},{\"attributes\":{\"line_color\":\"#30a2da\",\"line_width\":2,\"x\":{\"field\":\"year\"},\"y\":{\"field\":\"Family households\"}},\"id\":\"4122\",\"type\":\"Line\"},{\"attributes\":{},\"id\":\"4113\",\"type\":\"AllLabels\"},{\"attributes\":{\"line_alpha\":0.2,\"line_color\":\"#30a2da\",\"line_width\":2,\"x\":{\"field\":\"year\"},\"y\":{\"field\":\"Family households\"}},\"id\":\"4124\",\"type\":\"Line\"},{\"attributes\":{},\"id\":\"4178\",\"type\":\"UnionRenderers\"},{\"attributes\":{\"children\":[{\"id\":\"4072\"},{\"id\":\"4078\"},{\"id\":\"4196\"}],\"margin\":[0,0,0,0],\"name\":\"Row03180\",\"tags\":[\"embedded\"]},\"id\":\"4071\",\"type\":\"Row\"},{\"attributes\":{\"end\":644111.7,\"reset_end\":644111.7,\"reset_start\":139239.3,\"start\":139239.3,\"tags\":[[[\"Family households\",\"Family households\",null]]]},\"id\":\"4074\",\"type\":\"Range1d\"},{\"attributes\":{\"below\":[{\"id\":\"4087\"}],\"center\":[{\"id\":\"4090\"},{\"id\":\"4094\"},{\"id\":\"4136\"}],\"height\":300,\"left\":[{\"id\":\"4091\"}],\"margin\":[5,5,5,5],\"min_border_bottom\":10,\"min_border_left\":10,\"min_border_right\":10,\"min_border_top\":10,\"renderers\":[{\"id\":\"4125\"},{\"id\":\"4145\"},{\"id\":\"4166\"}],\"sizing_mode\":\"fixed\",\"title\":{\"id\":\"4079\"},\"toolbar\":{\"id\":\"4101\"},\"width\":700,\"x_range\":{\"id\":\"4073\"},\"x_scale\":{\"id\":\"4083\"},\"y_range\":{\"id\":\"4074\"},\"y_scale\":{\"id\":\"4085\"}},\"id\":\"4078\",\"subtype\":\"Figure\",\"type\":\"Plot\"},{\"attributes\":{},\"id\":\"4085\",\"type\":\"LinearScale\"},{\"attributes\":{},\"id\":\"4083\",\"type\":\"LinearScale\"},{\"attributes\":{\"axis_label\":\"Households with a Family\",\"coordinates\":null,\"formatter\":{\"id\":\"4110\"},\"group\":null,\"major_label_policy\":{\"id\":\"4116\"},\"ticker\":{\"id\":\"4092\"}},\"id\":\"4091\",\"type\":\"LinearAxis\"},{\"attributes\":{\"label\":{\"value\":\"Without a Family\"},\"renderers\":[{\"id\":\"4166\"}]},\"id\":\"4181\",\"type\":\"LegendItem\"},{\"attributes\":{\"axis_label\":\"year\",\"coordinates\":null,\"formatter\":{\"id\":\"4112\"},\"group\":null,\"major_label_orientation\":0.7853981633974483,\"major_label_policy\":{\"id\":\"4113\"},\"ticker\":{\"id\":\"4088\"}},\"id\":\"4087\",\"type\":\"LinearAxis\"},{\"attributes\":{\"line_color\":\"#30a2da\",\"line_width\":2,\"x\":{\"field\":\"year\"},\"y\":{\"field\":\"Family households\"}},\"id\":\"4138\",\"type\":\"Line\"},{\"attributes\":{\"source\":{\"id\":\"4160\"}},\"id\":\"4167\",\"type\":\"CDSView\"},{\"attributes\":{\"format\":\"%.0f\"},\"id\":\"4110\",\"type\":\"PrintfTickFormatter\"},{\"attributes\":{\"margin\":[5,5,5,5],\"name\":\"HSpacer03184\",\"sizing_mode\":\"stretch_width\"},\"id\":\"4072\",\"type\":\"Spacer\"},{\"attributes\":{\"tools\":[{\"id\":\"4075\"},{\"id\":\"4076\"},{\"id\":\"4077\"},{\"id\":\"4095\"},{\"id\":\"4096\"},{\"id\":\"4097\"},{\"id\":\"4098\"},{\"id\":\"4099\"}]},\"id\":\"4101\",\"type\":\"Toolbar\"},{\"attributes\":{\"axis\":{\"id\":\"4091\"},\"coordinates\":null,\"dimension\":1,\"grid_line_color\":null,\"group\":null,\"ticker\":null},\"id\":\"4094\",\"type\":\"Grid\"},{\"attributes\":{\"line_color\":\"#fc4f30\",\"line_width\":2,\"x\":{\"field\":\"year\"},\"y\":{\"field\":\"Total\"}},\"id\":\"4142\",\"type\":\"Line\"},{\"attributes\":{},\"id\":\"4112\",\"type\":\"BasicTickFormatter\"},{\"attributes\":{\"line_alpha\":0.2,\"line_color\":\"#fc4f30\",\"line_width\":2,\"x\":{\"field\":\"year\"},\"y\":{\"field\":\"Total\"}},\"id\":\"4144\",\"type\":\"Line\"},{\"attributes\":{\"line_alpha\":0.1,\"line_color\":\"#fc4f30\",\"line_width\":2,\"x\":{\"field\":\"year\"},\"y\":{\"field\":\"Total\"}},\"id\":\"4143\",\"type\":\"Line\"}],\"root_ids\":[\"4071\"]},\"title\":\"Bokeh Application\",\"version\":\"2.4.3\"}};\n",
       "    var render_items = [{\"docid\":\"a58b05bd-3400-4774-b303-d5013567f110\",\"root_ids\":[\"4071\"],\"roots\":{\"4071\":\"5758cf6a-9cf0-4c6d-94a2-944bd67041d9\"}}];\n",
       "    root.Bokeh.embed.embed_items_notebook(docs_json, render_items);\n",
       "  }\n",
       "  if (root.Bokeh !== undefined && root.Bokeh.Panel !== undefined) {\n",
       "    embed_document(root);\n",
       "  } else {\n",
       "    var attempts = 0;\n",
       "    var timer = setInterval(function(root) {\n",
       "      if (root.Bokeh !== undefined && root.Bokeh.Panel !== undefined) {\n",
       "        clearInterval(timer);\n",
       "        embed_document(root);\n",
       "      } else if (document.readyState == \"complete\") {\n",
       "        attempts++;\n",
       "        if (attempts > 200) {\n",
       "          clearInterval(timer);\n",
       "          console.log(\"Bokeh: ERROR: Unable to run BokehJS code because BokehJS library is missing\");\n",
       "        }\n",
       "      }\n",
       "    }, 25, root)\n",
       "  }\n",
       "})(window);</script>"
      ],
      "text/plain": [
       ":Overlay\n",
       "   .Curve.With_a_Family         :Curve   [year]   (Family households)\n",
       "   .Curve.Households_in_Phoenix :Curve   [year]   (Total)\n",
       "   .Curve.Without_a_Family      :Curve   [year]   (Nonfamily households)"
      ]
     },
     "execution_count": 58,
     "metadata": {
      "application/vnd.holoviews_exec.v0+json": {
       "id": "4071"
      }
     },
     "output_type": "execute_result"
    }
   ],
   "source": [
    "(family_df * household_plot * non_family_df).opts(\n",
    "    title=\"Housing in Phoenix\")\n"
   ]
  },
  {
   "cell_type": "code",
   "execution_count": 13,
   "id": "3f54bb37-e15e-4861-87c9-3ac8c1e5b800",
   "metadata": {},
   "outputs": [
    {
     "data": {
      "image/png": "[encoded data removed]",
      "text/plain": [
       "<Figure size 640x480 with 1 Axes>"
      ]
     },
     "metadata": {},
     "output_type": "display_data"
    }
   ],
   "source": [
    "# Filter columns of interest\n",
    "df_units = df[['year', 'Vacant Housing Units', 'Occupied Housing Units']]\n",
    "\n",
    "# Plot the vacancies on a map\n",
    "fig, ax = plt.subplots()\n",
    "ax.scatter(df_units['year'], df_units['Occupied Housing Units'], color='blue', label='Occupied Housing Units', s=100)\n",
    "ax.scatter(df_units['year'], df_units['Vacant Housing Units'], color='red', s=100)\n",
    "plt.xlabel('Year')\n",
    "plt.ylabel('Housing Units')\n",
    "plt.title('Housing Units by year')\n",
    "plt.xticks(rotation=45)\n",
    "plt.show()"
   ]
  },
  {
   "cell_type": "code",
   "execution_count": 75,
   "id": "c55c62e7-0e1d-46b4-a56d-74493a0422fa",
   "metadata": {},
   "outputs": [
    {
     "data": {
      "text/html": [
       "<div>\n",
       "<style scoped>\n",
       "    .dataframe tbody tr th:only-of-type {\n",
       "        vertical-align: middle;\n",
       "    }\n",
       "\n",
       "    .dataframe tbody tr th {\n",
       "        vertical-align: top;\n",
       "    }\n",
       "\n",
       "    .dataframe thead th {\n",
       "        text-align: right;\n",
       "    }\n",
       "</style>\n",
       "<table border=\"1\" class=\"dataframe\">\n",
       "  <thead>\n",
       "    <tr style=\"text-align: right;\">\n",
       "      <th></th>\n",
       "      <th>Total</th>\n",
       "      <th>HOA</th>\n",
       "      <th>Non-HOA</th>\n",
       "    </tr>\n",
       "  </thead>\n",
       "  <tbody>\n",
       "    <tr>\n",
       "      <th>0</th>\n",
       "      <td>520</td>\n",
       "      <td>241</td>\n",
       "      <td>279</td>\n",
       "    </tr>\n",
       "    <tr>\n",
       "      <th>1</th>\n",
       "      <td>496</td>\n",
       "      <td>246</td>\n",
       "      <td>250</td>\n",
       "    </tr>\n",
       "    <tr>\n",
       "      <th>2</th>\n",
       "      <td>447</td>\n",
       "      <td>219</td>\n",
       "      <td>228</td>\n",
       "    </tr>\n",
       "    <tr>\n",
       "      <th>3</th>\n",
       "      <td>483</td>\n",
       "      <td>259</td>\n",
       "      <td>224</td>\n",
       "    </tr>\n",
       "    <tr>\n",
       "      <th>4</th>\n",
       "      <td>569</td>\n",
       "      <td>328</td>\n",
       "      <td>242</td>\n",
       "    </tr>\n",
       "  </tbody>\n",
       "</table>\n",
       "</div>"
      ],
      "text/plain": [
       "   Total  HOA  Non-HOA\n",
       "0    520  241      279\n",
       "1    496  246      250\n",
       "2    447  219      228\n",
       "3    483  259      224\n",
       "4    569  328      242"
      ]
     },
     "execution_count": 75,
     "metadata": {},
     "output_type": "execute_result"
    }
   ],
   "source": [
    "HOA_df = pd.read_csv(Path('total_houses .csv'))\n",
    "HOA_df.head()"
   ]
  },
  {
   "cell_type": "code",
   "execution_count": 76,
   "id": "a830cf40-2327-459f-8559-bbf549847732",
   "metadata": {},
   "outputs": [
    {
     "data": {},
     "metadata": {},
     "output_type": "display_data"
    },
    {
     "data": {
      "application/vnd.holoviews_exec.v0+json": "",
      "text/html": [
       "<div id='4263'>\n",
       "  <div class=\"bk-root\" id=\"6f1e3b53-abfb-4697-a727-38ffe31752c2\" data-root-id=\"4263\"></div>\n",
       "</div>\n",
       "<script type=\"application/javascript\">(function(root) {\n",
       "  function embed_document(root) {\n",
       "    var docs_json = {\"9e27185f-accf-4390-a0fe-fdc5590b235d\":{\"defs\":[{\"extends\":null,\"module\":null,\"name\":\"ReactiveHTML1\",\"overrides\":[],\"properties\":[]},{\"extends\":null,\"module\":null,\"name\":\"FlexBox1\",\"overrides\":[],\"properties\":[{\"default\":\"flex-start\",\"kind\":null,\"name\":\"align_content\"},{\"default\":\"flex-start\",\"kind\":null,\"name\":\"align_items\"},{\"default\":\"row\",\"kind\":null,\"name\":\"flex_direction\"},{\"default\":\"wrap\",\"kind\":null,\"name\":\"flex_wrap\"},{\"default\":\"flex-start\",\"kind\":null,\"name\":\"justify_content\"}]},{\"extends\":null,\"module\":null,\"name\":\"GridStack1\",\"overrides\":[],\"properties\":[{\"default\":\"warn\",\"kind\":null,\"name\":\"mode\"},{\"default\":null,\"kind\":null,\"name\":\"ncols\"},{\"default\":null,\"kind\":null,\"name\":\"nrows\"},{\"default\":true,\"kind\":null,\"name\":\"allow_resize\"},{\"default\":true,\"kind\":null,\"name\":\"allow_drag\"},{\"default\":[],\"kind\":null,\"name\":\"state\"}]},{\"extends\":null,\"module\":null,\"name\":\"click1\",\"overrides\":[],\"properties\":[{\"default\":\"\",\"kind\":null,\"name\":\"terminal_output\"},{\"default\":\"\",\"kind\":null,\"name\":\"debug_name\"},{\"default\":0,\"kind\":null,\"name\":\"clears\"}]},{\"extends\":null,\"module\":null,\"name\":\"NotificationAreaBase1\",\"overrides\":[],\"properties\":[{\"default\":\"bottom-right\",\"kind\":null,\"name\":\"position\"},{\"default\":0,\"kind\":null,\"name\":\"_clear\"}]},{\"extends\":null,\"module\":null,\"name\":\"NotificationArea1\",\"overrides\":[],\"properties\":[{\"default\":[],\"kind\":null,\"name\":\"notifications\"},{\"default\":\"bottom-right\",\"kind\":null,\"name\":\"position\"},{\"default\":0,\"kind\":null,\"name\":\"_clear\"},{\"default\":[{\"background\":\"#ffc107\",\"icon\":{\"className\":\"fas fa-exclamation-triangle\",\"color\":\"white\",\"tagName\":\"i\"},\"type\":\"warning\"},{\"background\":\"#007bff\",\"icon\":{\"className\":\"fas fa-info-circle\",\"color\":\"white\",\"tagName\":\"i\"},\"type\":\"info\"}],\"kind\":null,\"name\":\"types\"}]},{\"extends\":null,\"module\":null,\"name\":\"Notification\",\"overrides\":[],\"properties\":[{\"default\":null,\"kind\":null,\"name\":\"background\"},{\"default\":3000,\"kind\":null,\"name\":\"duration\"},{\"default\":null,\"kind\":null,\"name\":\"icon\"},{\"default\":\"\",\"kind\":null,\"name\":\"message\"},{\"default\":null,\"kind\":null,\"name\":\"notification_type\"},{\"default\":false,\"kind\":null,\"name\":\"_destroyed\"}]},{\"extends\":null,\"module\":null,\"name\":\"TemplateActions1\",\"overrides\":[],\"properties\":[{\"default\":0,\"kind\":null,\"name\":\"open_modal\"},{\"default\":0,\"kind\":null,\"name\":\"close_modal\"}]},{\"extends\":null,\"module\":null,\"name\":\"MaterialTemplateActions1\",\"overrides\":[],\"properties\":[{\"default\":0,\"kind\":null,\"name\":\"open_modal\"},{\"default\":0,\"kind\":null,\"name\":\"close_modal\"}]}],\"roots\":{\"references\":[{\"attributes\":{\"bottom_units\":\"screen\",\"coordinates\":null,\"fill_alpha\":0.5,\"fill_color\":\"lightgrey\",\"group\":null,\"left_units\":\"screen\",\"level\":\"overlay\",\"line_alpha\":1.0,\"line_color\":\"black\",\"line_dash\":[4,4],\"line_width\":2,\"right_units\":\"screen\",\"syncable\":false,\"top_units\":\"screen\"},\"id\":\"4290\",\"type\":\"BoxAnnotation\"},{\"attributes\":{\"callback\":null,\"renderers\":[{\"id\":\"4304\"}],\"tags\":[\"hv_created\"],\"tooltips\":[[\"index\",\"@{index}\"],[\"HOA\",\"@{HOA}\"]]},\"id\":\"4267\",\"type\":\"HoverTool\"},{\"attributes\":{\"line_alpha\":0.1,\"line_color\":\"#30a2da\",\"line_width\":2,\"x\":{\"field\":\"index\"},\"y\":{\"field\":\"HOA\"}},\"id\":\"4302\",\"type\":\"Line\"},{\"attributes\":{},\"id\":\"4320\",\"type\":\"UnionRenderers\"},{\"attributes\":{\"end\":692.0,\"reset_end\":692.0,\"reset_start\":176.0,\"start\":176.0,\"tags\":[[[\"HOA\",\"HOA\",null]]]},\"id\":\"4266\",\"type\":\"Range1d\"},{\"attributes\":{\"tools\":[{\"id\":\"4267\"},{\"id\":\"4285\"},{\"id\":\"4286\"},{\"id\":\"4287\"},{\"id\":\"4288\"},{\"id\":\"4289\"}]},\"id\":\"4291\",\"type\":\"Toolbar\"},{\"attributes\":{\"line_color\":\"#30a2da\",\"line_width\":2,\"x\":{\"field\":\"index\"},\"y\":{\"field\":\"HOA\"}},\"id\":\"4301\",\"type\":\"Line\"},{\"attributes\":{},\"id\":\"4273\",\"type\":\"LinearScale\"},{\"attributes\":{\"below\":[{\"id\":\"4277\"}],\"center\":[{\"id\":\"4280\"},{\"id\":\"4284\"}],\"height\":300,\"left\":[{\"id\":\"4281\"}],\"margin\":[5,5,5,5],\"min_border_bottom\":10,\"min_border_left\":10,\"min_border_right\":10,\"min_border_top\":10,\"renderers\":[{\"id\":\"4304\"}],\"sizing_mode\":\"fixed\",\"title\":{\"id\":\"4269\"},\"toolbar\":{\"id\":\"4291\"},\"width\":700,\"x_range\":{\"id\":\"4265\"},\"x_scale\":{\"id\":\"4273\"},\"y_range\":{\"id\":\"4266\"},\"y_scale\":{\"id\":\"4275\"}},\"id\":\"4268\",\"subtype\":\"Figure\",\"type\":\"Plot\"},{\"attributes\":{},\"id\":\"4285\",\"type\":\"SaveTool\"},{\"attributes\":{},\"id\":\"4286\",\"type\":\"PanTool\"},{\"attributes\":{\"line_color\":\"#30a2da\",\"line_width\":2,\"x\":{\"field\":\"index\"},\"y\":{\"field\":\"HOA\"}},\"id\":\"4306\",\"type\":\"Line\"},{\"attributes\":{},\"id\":\"4289\",\"type\":\"ResetTool\"},{\"attributes\":{},\"id\":\"4287\",\"type\":\"WheelZoomTool\"},{\"attributes\":{\"margin\":[5,5,5,5],\"name\":\"HSpacer03335\",\"sizing_mode\":\"stretch_width\"},\"id\":\"4264\",\"type\":\"Spacer\"},{\"attributes\":{\"margin\":[5,5,5,5],\"name\":\"HSpacer03336\",\"sizing_mode\":\"stretch_width\"},\"id\":\"4323\",\"type\":\"Spacer\"},{\"attributes\":{\"line_alpha\":0.2,\"line_color\":\"#30a2da\",\"line_width\":2,\"x\":{\"field\":\"index\"},\"y\":{\"field\":\"HOA\"}},\"id\":\"4303\",\"type\":\"Line\"},{\"attributes\":{\"overlay\":{\"id\":\"4290\"}},\"id\":\"4288\",\"type\":\"BoxZoomTool\"},{\"attributes\":{\"coordinates\":null,\"data_source\":{\"id\":\"4298\"},\"glyph\":{\"id\":\"4301\"},\"group\":null,\"hover_glyph\":null,\"muted_glyph\":{\"id\":\"4303\"},\"nonselection_glyph\":{\"id\":\"4302\"},\"selection_glyph\":{\"id\":\"4306\"},\"view\":{\"id\":\"4305\"}},\"id\":\"4304\",\"type\":\"GlyphRenderer\"},{\"attributes\":{\"data\":{\"HOA\":[241,246,219,259,328,367,390,437,487,535,558,593,649],\"index\":[0,1,2,3,4,5,6,7,8,9,10,11,12]},\"selected\":{\"id\":\"4299\"},\"selection_policy\":{\"id\":\"4320\"}},\"id\":\"4298\",\"type\":\"ColumnDataSource\"},{\"attributes\":{},\"id\":\"4282\",\"type\":\"BasicTicker\"},{\"attributes\":{\"source\":{\"id\":\"4298\"}},\"id\":\"4305\",\"type\":\"CDSView\"},{\"attributes\":{},\"id\":\"4311\",\"type\":\"BasicTickFormatter\"},{\"attributes\":{},\"id\":\"4312\",\"type\":\"AllLabels\"},{\"attributes\":{\"children\":[{\"id\":\"4264\"},{\"id\":\"4268\"},{\"id\":\"4323\"}],\"margin\":[0,0,0,0],\"name\":\"Row03331\",\"tags\":[\"embedded\"]},\"id\":\"4263\",\"type\":\"Row\"},{\"attributes\":{},\"id\":\"4308\",\"type\":\"BasicTickFormatter\"},{\"attributes\":{},\"id\":\"4309\",\"type\":\"AllLabels\"},{\"attributes\":{},\"id\":\"4299\",\"type\":\"Selection\"},{\"attributes\":{\"axis\":{\"id\":\"4281\"},\"coordinates\":null,\"dimension\":1,\"grid_line_color\":null,\"group\":null,\"ticker\":null},\"id\":\"4284\",\"type\":\"Grid\"},{\"attributes\":{\"axis\":{\"id\":\"4277\"},\"coordinates\":null,\"grid_line_color\":null,\"group\":null,\"ticker\":null},\"id\":\"4280\",\"type\":\"Grid\"},{\"attributes\":{\"end\":12.0,\"reset_end\":12.0,\"reset_start\":0.0,\"tags\":[[[\"index\",\"index\",null]]]},\"id\":\"4265\",\"type\":\"Range1d\"},{\"attributes\":{},\"id\":\"4275\",\"type\":\"LinearScale\"},{\"attributes\":{\"coordinates\":null,\"group\":null,\"text\":\"HOA\",\"text_color\":\"black\",\"text_font_size\":\"12pt\"},\"id\":\"4269\",\"type\":\"Title\"},{\"attributes\":{},\"id\":\"4278\",\"type\":\"BasicTicker\"},{\"attributes\":{\"axis_label\":\"\",\"coordinates\":null,\"formatter\":{\"id\":\"4308\"},\"group\":null,\"major_label_policy\":{\"id\":\"4309\"},\"ticker\":{\"id\":\"4278\"}},\"id\":\"4277\",\"type\":\"LinearAxis\"},{\"attributes\":{\"axis_label\":\"\",\"coordinates\":null,\"formatter\":{\"id\":\"4311\"},\"group\":null,\"major_label_policy\":{\"id\":\"4312\"},\"ticker\":{\"id\":\"4282\"}},\"id\":\"4281\",\"type\":\"LinearAxis\"}],\"root_ids\":[\"4263\"]},\"title\":\"Bokeh Application\",\"version\":\"2.4.3\"}};\n",
       "    var render_items = [{\"docid\":\"9e27185f-accf-4390-a0fe-fdc5590b235d\",\"root_ids\":[\"4263\"],\"roots\":{\"4263\":\"6f1e3b53-abfb-4697-a727-38ffe31752c2\"}}];\n",
       "    root.Bokeh.embed.embed_items_notebook(docs_json, render_items);\n",
       "  }\n",
       "  if (root.Bokeh !== undefined && root.Bokeh.Panel !== undefined) {\n",
       "    embed_document(root);\n",
       "  } else {\n",
       "    var attempts = 0;\n",
       "    var timer = setInterval(function(root) {\n",
       "      if (root.Bokeh !== undefined && root.Bokeh.Panel !== undefined) {\n",
       "        clearInterval(timer);\n",
       "        embed_document(root);\n",
       "      } else if (document.readyState == \"complete\") {\n",
       "        attempts++;\n",
       "        if (attempts > 200) {\n",
       "          clearInterval(timer);\n",
       "          console.log(\"Bokeh: ERROR: Unable to run BokehJS code because BokehJS library is missing\");\n",
       "        }\n",
       "      }\n",
       "    }, 25, root)\n",
       "  }\n",
       "})(window);</script>"
      ],
      "text/plain": [
       ":Curve   [index]   (HOA)"
      ]
     },
     "execution_count": 76,
     "metadata": {
      "application/vnd.holoviews_exec.v0+json": {
       "id": "4263"
      }
     },
     "output_type": "execute_result"
    }
   ],
   "source": [
    "HOA_df.set_index('Total')\n",
    "HOA_df['HOA'].hvplot()"
   ]
  },
  {
   "cell_type": "code",
   "execution_count": null,
   "id": "6143e3b2-3956-4d49-b9ec-6af3a42e2437",
   "metadata": {},
   "outputs": [],
   "source": []
  }
 ],
 "metadata": {
  "kernelspec": {
   "display_name": "dev",
   "language": "python",
   "name": "dev"
  },
  "language_info": {
   "codemirror_mode": {
    "name": "ipython",
    "version": 3
   },
   "file_extension": ".py",
   "mimetype": "text/x-python",
   "name": "python",
   "nbconvert_exporter": "python",
   "pygments_lexer": "ipython3",
   "version": "3.7.13"
  }
 },
 "nbformat": 4,
 "nbformat_minor": 5
}
