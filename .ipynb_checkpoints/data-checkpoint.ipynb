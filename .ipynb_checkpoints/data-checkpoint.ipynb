{
 "cells": [
  {
   "cell_type": "code",
   "execution_count": 1,
   "id": "d8af4beb-e94f-4294-983f-b172bfdc95ff",
   "metadata": {},
   "outputs": [
    {
     "name": "stdout",
     "output_type": "stream",
     "text": [
      "   OBJECTID  ASSOC_ID NAME ASSOC_TYPE  WEB_ALL  WEB_ALT_PHONE  WEB_DAY_PHONE  \\\n",
      "0    140713      2702                      NaN            NaN            NaN   \n",
      "1    140714      2715                      NaN            NaN            NaN   \n",
      "2    140715       642                      NaN            NaN            NaN   \n",
      "3    140716      2782                      NaN            NaN            NaN   \n",
      "4    140717      2998                      NaN            NaN            NaN   \n",
      "\n",
      "   WEB_EMAIL  WEB_ADDRESS  \n",
      "0        NaN          NaN  \n",
      "1        NaN          NaN  \n",
      "2        NaN          NaN  \n",
      "3        NaN          NaN  \n",
      "4        NaN          NaN  \n"
     ]
    }
   ],
   "source": [
    "import pandas as pd\n",
    "\n",
    "# Define the URL of the CSV file\n",
    "url = 'https://opendata.arcgis.com/datasets/0d74de6557f544949a84919041e13b41_0.csv'\n",
    "\n",
    "# Read the CSV file into a DataFrame\n",
    "df = pd.read_csv(url)\n",
    "\n",
    "\n",
    "print(df.head())"
   ]
  },
  {
   "cell_type": "code",
   "execution_count": null,
   "id": "bdb152c4-060b-48c2-a818-59f45612374b",
   "metadata": {},
   "outputs": [],
   "source": []
  }
 ],
 "metadata": {
  "kernelspec": {
   "display_name": "Python 3 (ipykernel)",
   "language": "python",
   "name": "python3"
  },
  "language_info": {
   "codemirror_mode": {
    "name": "ipython",
    "version": 3
   },
   "file_extension": ".py",
   "mimetype": "text/x-python",
   "name": "python",
   "nbconvert_exporter": "python",
   "pygments_lexer": "ipython3",
   "version": "3.7.13"
  }
 },
 "nbformat": 4,
 "nbformat_minor": 5
}
